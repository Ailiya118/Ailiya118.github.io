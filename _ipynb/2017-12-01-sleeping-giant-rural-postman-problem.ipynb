{
 "cells": [
  {
   "cell_type": "code",
   "execution_count": 178,
   "metadata": {
    "nbpresent": {
     "id": "8165ac8d-5952-45f1-8667-2733625e99f4"
    }
   },
   "outputs": [
    {
     "name": "stdout",
     "output_type": "stream",
     "text": [
      "The autoreload extension is already loaded. To reload it, use:\n",
      "  %reload_ext autoreload\n"
     ]
    }
   ],
   "source": [
    "import sys\n",
    "sys.path.append(\"..\") # Adds higher directory to python modules path.\n",
    "\n",
    "%load_ext autoreload\n",
    "%autoreload 2"
   ]
  },
  {
   "cell_type": "markdown",
   "metadata": {},
   "source": [
    "This problem originated from a blog post I wrote for DataCamp on graph optimization [here][datacamp_graph_optimization].  The algorithm I sketched out there for solving the Chinese Problem on the [Sleeping Giant state park] trail network has since been formalized into the [postman_problems] python library.  I've also added the Rural Postman solver that is implemented here.\n",
    "\n",
    "So the three main enhancements in this post from the original DataCamp article and my second iteration published [here][graph_optimization_nx2] updating to networkx 2.0 are:\n",
    "1. OpenStreetMap for graph data and visualization.\n",
    "2. Implementing the Rural Postman algorithm to consider optional edges.\n",
    "3. Leveraging the [postman_problems] library.\n",
    "\n",
    "This code, notebook and data for this post can be found in the [postman_problems_examples] repo.\n",
    "\n",
    "The motivation and background around this problem is written up more thoroughly in the previous posts and [postman_problems].\n",
    "\n",
    "[postman_problems]: https://github.com/brooksandrew/postman_problems\n",
    "[postman_problems_examples]: https://github.com/brooksandrew/postman_problems_examples\n",
    "\n",
    "[datacamp_graph_optimization]: https://www.datacamp.com/community/tutorials/networkx-python-graph-tutorial\n",
    "[graph_optimization_nx2]:http://brooksandrew.github.io/simpleblog/articles/intro-to-graph-optimization-solving-cpp\n",
    "[Sleeping Giant state park]: http://www.ct.gov/deep/cwp/view.asp?a=2716&q=325264&deepNav_GID=1650%20"
   ]
  },
  {
   "cell_type": "markdown",
   "metadata": {},
   "source": [
    "#### Table of Contents\n"
   ]
  },
  {
   "cell_type": "markdown",
   "metadata": {},
   "source": [
    "* Table of Contents\n",
    "{:toc}"
   ]
  },
  {
   "cell_type": "code",
   "execution_count": 83,
   "metadata": {
    "nbpresent": {
     "id": "8dcceef0-7433-437c-a46d-7261f6523840"
    }
   },
   "outputs": [],
   "source": [
    "import mplleaflet\n",
    "import networkx as nx\n",
    "import pandas as pd\n",
    "import matplotlib.pyplot as plt\n",
    "from collections import Counter\n",
    "\n",
    "# can be found in https://github.com/brooksandrew/postman_problems_examples\n",
    "from osm2nx import read_osm, haversine\n",
    "from graph import contract_edges, create_rpp_edgelist\n",
    "\n",
    "from postman_problems.tests.utils import create_mock_csv_from_dataframe\n",
    "from postman_problems.solver import rpp, cpp\n",
    "from postman_problems.stats import calculate_postman_solution_stats"
   ]
  },
  {
   "cell_type": "markdown",
   "metadata": {},
   "source": [
    "## Create Graph from OSM\n"
   ]
  },
  {
   "cell_type": "code",
   "execution_count": 84,
   "metadata": {
    "nbpresent": {
     "id": "80c669c6-43bb-4efd-9873-34e7971d602f"
    }
   },
   "outputs": [
    {
     "name": "stdout",
     "output_type": "stream",
     "text": [
      "<class 'networkx.classes.digraph.DiGraph'>\n"
     ]
    }
   ],
   "source": [
    "# load OSM to a directed NX\n",
    "g_d = read_osm('sleepinggiant.osm')  \n",
    "\n",
    "# create an undirected graph\n",
    "g = g_d.to_undirected()"
   ]
  },
  {
   "cell_type": "markdown",
   "metadata": {
    "nbpresent": {
     "id": "1d14c3b2-4ba9-4efc-b535-1e81ee6f0b56"
    }
   },
   "source": [
    "#### Adding edges that don't exist on OSM, but should"
   ]
  },
  {
   "cell_type": "code",
   "execution_count": 85,
   "metadata": {
    "nbpresent": {
     "id": "6780c94b-915d-4dfc-94d2-596b2185b99a"
    }
   },
   "outputs": [],
   "source": [
    "g.add_edge('2318082790', '2318082832', id='white_horseshoe_fix_1')"
   ]
  },
  {
   "cell_type": "markdown",
   "metadata": {
    "nbpresent": {
     "id": "d75bffcc-8d97-40cb-8d28-77f6dac30b37"
    }
   },
   "source": [
    "#### Adding distance to OSM graph\n",
    "\n",
    "Using the haversine formula to calculate distance between each edge."
   ]
  },
  {
   "cell_type": "code",
   "execution_count": 86,
   "metadata": {
    "nbpresent": {
     "id": "f3e2ca7d-a863-4c60-a332-00143d6bd45f"
    }
   },
   "outputs": [],
   "source": [
    "for e in g.edges(data=True):\n",
    "    e[2]['distance'] = haversine(g.node[e[0]]['lon'], \n",
    "                                 g.node[e[0]]['lat'], \n",
    "                                 g.node[e[1]]['lon'], \n",
    "                                 g.node[e[1]]['lat'])"
   ]
  },
  {
   "cell_type": "markdown",
   "metadata": {
    "nbpresent": {
     "id": "84bdc297-7969-4c6e-8099-94ba42af49d6"
    }
   },
   "source": [
    "#### Create graph of required trails only\n",
    "\n",
    "A simple heuristic with a couple tweaks is all we need to create the graph with required edges:\n",
    "\n",
    "1. Keep any edge with 'Trail' in the name attribute.\n",
    "2. Manually remove the handful of trails that are not part of the required Giant Master route.   "
   ]
  },
  {
   "cell_type": "markdown",
   "metadata": {},
   "source": [
    "![trail_map_3builds](https://github.com/brooksandrew/postman_problems_examples/raw/master/sleepinggiant/fig/sleepinggiant_3trailsmap.jpg)\n",
    "\n"
   ]
  },
  {
   "cell_type": "code",
   "execution_count": 87,
   "metadata": {
    "nbpresent": {
     "id": "8de79ff9-81f0-43d5-a5e9-b93d7b474b8b"
    }
   },
   "outputs": [],
   "source": [
    "g_t = g.copy()\n",
    "\n",
    "for e in g.edges(data=True):\n",
    "    \n",
    "    # remove non trails\n",
    "    name = e[2]['name'] if 'name' in e[2] else ''\n",
    "    if ('Trail' not in name.split()) or (name is None):\n",
    "        g_t.remove_edge(e[0], e[1])\n",
    "        \n",
    "    # remove non Sleeping Giant trails\n",
    "    elif name in [\n",
    "        'Farmington Canal Linear Trail', \n",
    "        'Farmington Canal Heritage Trail', \n",
    "        'Montowese Trail',\n",
    "        '(white blazes)']:\n",
    "        g_t.remove_edge(e[0], e[1])\n",
    "\n",
    "# cleaning up nodes left without edges\n",
    "for n in nx.isolates(g_t.copy()):\n",
    "    g_t.remove_node(n)"
   ]
  },
  {
   "cell_type": "markdown",
   "metadata": {
    "nbpresent": {
     "id": "5fa1ea24-f539-4292-ac41-282031e19626"
    }
   },
   "source": [
    "## Viz Sleeping Giant Trails\n",
    "\n",
    "All trails required for the Giant Master:"
   ]
  },
  {
   "cell_type": "code",
   "execution_count": 88,
   "metadata": {
    "nbpresent": {
     "id": "5edf5ad2-38dd-404e-ba0b-0f88702aba8c"
    }
   },
   "outputs": [],
   "source": [
    "fig, ax = plt.subplots(figsize=(1,8))\n",
    "\n",
    "pos = {k: (g_t.node[k]['lon'], g_t.node[k]['lat']) for k in g_t.nodes()}    \n",
    "nx.draw_networkx_edges(g_t, pos, width=2.5, edge_color='black', alpha=0.7)\n",
    "\n",
    "mplleaflet.save_html(fig, 'maps/sleepinggiant_trails_only.html')"
   ]
  },
  {
   "cell_type": "markdown",
   "metadata": {},
   "source": [
    "<iframe src=\"https://cdn.rawgit.com/brooksandrew/postman_problems_examples/master/sleepinggiant/maps/sleepinggiant_trails_only.html\" height=\"400\" width=\"750\"></iframe>\n"
   ]
  },
  {
   "cell_type": "markdown",
   "metadata": {
    "nbpresent": {
     "id": "d6372fef-a927-47cb-be98-7881d40f319a"
    }
   },
   "source": [
    "## Connect Edges\n",
    "\n",
    "In order to run the RPP algorithm from [postman_problems], the required edges of the graph must form a single connected component.  We're almost there with the Sleeping Giant trail map as-is, so we'll just connect a few components manually.  \n",
    "\n",
    "Here's an example of a few floating components (southwest corner of park):\n",
    "\n",
    "[postman_problems]: https://github.com/brooksandrew/postman_problems"
   ]
  },
  {
   "cell_type": "markdown",
   "metadata": {},
   "source": [
    "<img src=\"https://github.com/brooksandrew/postman_problems_examples/raw/master/sleepinggiant/fig/sleepinggiant_disconnected_components.png\" width=\"500\">"
   ]
  },
  {
   "cell_type": "markdown",
   "metadata": {},
   "source": [
    "[OpenStreetMap] makes finding these edge (way) IDs simple.  Once grabbing the `?` cursor, you can click on any edge to retrieve IDs and attributes.  \n",
    "\n",
    "[OpenStreetMap]: https://www.openstreetmap.org/#map=17/41.42201/-72.89983"
   ]
  },
  {
   "cell_type": "markdown",
   "metadata": {},
   "source": [
    "<img src=\"https://github.com/brooksandrew/postman_problems_examples/raw/master/sleepinggiant/fig/osm_edge_lookup.png\" width=\"1000\">"
   ]
  },
  {
   "cell_type": "markdown",
   "metadata": {
    "nbpresent": {
     "id": "237b657d-813b-4b55-b3cf-c6bf47059d4c"
    }
   },
   "source": [
    "#### Define OSM edges to add and remove from graph\n"
   ]
  },
  {
   "cell_type": "code",
   "execution_count": 89,
   "metadata": {
    "nbpresent": {
     "id": "3c4f42bc-6599-4b67-9c3d-4258b1d702dd"
    }
   },
   "outputs": [],
   "source": [
    "edge_ids_to_add = [\n",
    "    '223082783', \n",
    "    '223077827', \n",
    "    '40636272', \n",
    "    '223082785', \n",
    "    '222868698',\n",
    "    '223083721',\n",
    "    '222947116',\n",
    "    '222711152',\n",
    "    '222711155',\n",
    "    '222860964',\n",
    "    '223083718',\n",
    "    '222867540',\n",
    "    'white_horseshoe_fix_1'\n",
    "]\n",
    "\n",
    "edge_ids_to_remove = [\n",
    "    '17220599'\n",
    "]"
   ]
  },
  {
   "cell_type": "markdown",
   "metadata": {},
   "source": [
    "#### Add attributes for supplementary edges"
   ]
  },
  {
   "cell_type": "code",
   "execution_count": 90,
   "metadata": {
    "nbpresent": {
     "id": "39af27c8-8b8b-4741-b2d9-aff5d614d9c6"
    }
   },
   "outputs": [],
   "source": [
    "for e in g.edges(data=True):\n",
    "    way_id = e[2].get('id').split('-')[0]\n",
    "    if way_id in edge_ids_to_add:\n",
    "        g_t.add_edge(e[0], e[1], **e[2])\n",
    "        g_t.add_node(e[0], lat=g.node[e[0]]['lat'], lon=g.node[e[0]]['lon'])\n",
    "        g_t.add_node(e[1], lat=g.node[e[1]]['lat'], lon=g.node[e[1]]['lon'])\n",
    "    if way_id in edge_ids_to_remove:\n",
    "        if g_t.has_edge(e[0], e[1]):\n",
    "            g_t.remove_edge(e[0], e[1])\n",
    "            \n",
    "for n in nx.isolates(g_t.copy()):\n",
    "    g_t.remove_node(n)"
   ]
  },
  {
   "cell_type": "markdown",
   "metadata": {},
   "source": [
    "Ensuring that we're left with one single connected component:"
   ]
  },
  {
   "cell_type": "code",
   "execution_count": 91,
   "metadata": {
    "scrolled": true
   },
   "outputs": [
    {
     "data": {
      "text/plain": [
       "1"
      ]
     },
     "execution_count": 91,
     "metadata": {},
     "output_type": "execute_result"
    }
   ],
   "source": [
    "len(list(nx.connected_components(g_t)))"
   ]
  },
  {
   "cell_type": "markdown",
   "metadata": {
    "nbpresent": {
     "id": "723249b3-1b0b-4f45-8707-2e407ef5b6ce"
    }
   },
   "source": [
    "## Viz Connected Component\n",
    "\n",
    "The map below visualizes the required edges and nodes of interest (intersections and dead-ends where degree != 2):"
   ]
  },
  {
   "cell_type": "code",
   "execution_count": 96,
   "metadata": {
    "nbpresent": {
     "id": "8197bc16-13b3-4721-9667-76935f17a6a6"
    },
    "scrolled": true
   },
   "outputs": [],
   "source": [
    "fig, ax = plt.subplots(figsize=(1,12))\n",
    "\n",
    "# edges\n",
    "pos = {k: (g_t.node[k].get('lon'), g_t.node[k].get('lat')) for k in g_t.nodes()}    \n",
    "nx.draw_networkx_edges(g_t, pos, width=3.0, edge_color='black', alpha=0.6)\n",
    "\n",
    "# nodes (intersections and dead-ends)\n",
    "pos_x = {k: (g_t.node[k]['lon'], g_t.node[k]['lat']) for k in g_t.nodes() if (g_t.degree(k)==1) | (g_t.degree(k)>2)}    \n",
    "nx.draw_networkx_nodes(g_t, pos_x, nodelist=pos_x.keys(), node_size=35.0, node_color='red', alpha=0.9)\n",
    "\n",
    "mplleaflet.save_html(fig, 'maps/trails_only_intersections.html')"
   ]
  },
  {
   "cell_type": "markdown",
   "metadata": {},
   "source": [
    "<iframe src=\"https://cdn.rawgit.com/brooksandrew/postman_problems_examples/master/sleepinggiant/maps/trails_only_intersections.html\" height=\"400\" width=\"750\"></iframe>\n"
   ]
  },
  {
   "cell_type": "markdown",
   "metadata": {
    "nbpresent": {
     "id": "5d54d422-b852-4ad1-b155-aeb5945d6f1b"
    }
   },
   "source": [
    "## Viz Trail Color\n",
    "\n",
    "Because we can and it's pretty."
   ]
  },
  {
   "cell_type": "code",
   "execution_count": 98,
   "metadata": {},
   "outputs": [],
   "source": [
    "name2color = {\n",
    "    'Green Trail': 'green',\n",
    "    'Quinnipiac Trail': 'blue',\n",
    "    'Tower Trail': 'black',\n",
    "    'Yellow Trail': 'yellow',\n",
    "    'Red Square Trail': 'red',\n",
    "    'White/Blue Trail Link': 'lightblue',\n",
    "    'Orange Trail': 'orange',\n",
    "    'Mount Carmel Avenue': 'black',\n",
    "    'Violet Trail': 'violet',\n",
    "    'blue Trail': 'blue',\n",
    "    'Red Triangle Trail': 'red',\n",
    "    'Blue Trail': 'blue',\n",
    "    'Blue/Violet Trail Link': 'purple',\n",
    "    'Red Circle Trail': 'red',\n",
    "    'White Trail': 'gray',\n",
    "    'Red Diamond Trail': 'red',\n",
    "    'Yellow/Green Trail Link': 'yellowgreen',\n",
    "    'Nature Trail': 'forestgreen',\n",
    "    'Red Hexagon Trail': 'red',\n",
    "    None: 'black'\n",
    "}"
   ]
  },
  {
   "cell_type": "code",
   "execution_count": 103,
   "metadata": {
    "nbpresent": {
     "id": "7fb5b7f2-e5c1-4b5d-b74b-5aa84a53f420"
    },
    "scrolled": true
   },
   "outputs": [],
   "source": [
    "fig, ax = plt.subplots(figsize=(1,10))\n",
    "        \n",
    "pos = {k: (g_t.node[k]['lon'], g_t.node[k]['lat']) for k in g_t.nodes()}   \n",
    "e_color = [name2color[e[2].get('name')] for e in g_t.edges(data=True)]\n",
    "nx.draw_networkx_edges(g_t, pos, width=3.0, edge_color=e_color, alpha=0.5)\n",
    "nx.draw_networkx_nodes(g_t, pos_x, nodelist=pos_x.keys(), node_size=30.0, node_color='black', alpha=0.9)\n",
    "\n",
    "mplleaflet.save_html(fig, 'maps/trails_only_color.html', tiles='cartodb_positron')"
   ]
  },
  {
   "cell_type": "markdown",
   "metadata": {},
   "source": [
    "<iframe src=\"https://cdn.rawgit.com/brooksandrew/postman_problems_examples/master/sleepinggiant/maps/trails_only_color.html\" height=\"400\" width=\"750\"></iframe>\n"
   ]
  },
  {
   "cell_type": "markdown",
   "metadata": {
    "nbpresent": {
     "id": "e88ddb84-d2f5-47fa-8faa-a6857c115957"
    }
   },
   "source": [
    "#### Check distance\n",
    "\n",
    "This is strikingly close (within 0.25 miles) to what I calculated manually with some guess work from the [SG trail map] on the first pass at this problem [here][SG_cpp_post], before leveraging OSM.\n",
    "\n",
    "[SG_cpp_post]:http://brooksandrew.github.io/simpleblog/articles/intro-to-graph-optimization-solving-cpp/#stats\n",
    "[SG trail map]: http://www.ct.gov/deep/lib/deep/stateparks/maps/sleepgiant.pdf"
   ]
  },
  {
   "cell_type": "code",
   "execution_count": null,
   "metadata": {},
   "outputs": [],
   "source": []
  },
  {
   "cell_type": "code",
   "execution_count": 119,
   "metadata": {
    "nbpresent": {
     "id": "d6ed30dc-efba-4162-8528-8cd997569503"
    }
   },
   "outputs": [
    {
     "name": "stdout",
     "output_type": "stream",
     "text": [
      "25.56 miles of required trail.\n"
     ]
    }
   ],
   "source": [
    "print('{:0.2f} miles of required trail.'.format(sum([e[2]['distance']/1609.34 for e in g_t.edges(data=True)])))"
   ]
  },
  {
   "cell_type": "markdown",
   "metadata": {
    "nbpresent": {
     "id": "cfc6a0f7-dccb-4da8-ae06-875ca6c05381"
    }
   },
   "source": [
    "## Contract Edges\n",
    "\n",
    "We could run the RPP algorithm on the graph as-is with >5000 edges.  However, we can simplify computation by contracting edges into logical trail segments first.  More details on the intuition and methodology in the [50 states post].\n",
    "\n",
    "[50 states post]:http://brooksandrew.github.io/simpleblog/articles/fifty-states-rural-postman-problem/#41-contract-edges"
   ]
  },
  {
   "cell_type": "code",
   "execution_count": 127,
   "metadata": {},
   "outputs": [
    {
     "name": "stdout",
     "output_type": "stream",
     "text": [
      "Number of edges in trail graph: 5141\n"
     ]
    }
   ],
   "source": [
    "print('Number of edges in trail graph: {}'.format(len(g_t.edges())))"
   ]
  },
  {
   "cell_type": "code",
   "execution_count": 129,
   "metadata": {
    "nbpresent": {
     "id": "e37062e4-5c5c-43ec-857d-7a2082f0a14a"
    }
   },
   "outputs": [],
   "source": [
    "# intialize contracted graph\n",
    "g_tc = nx.MultiGraph()\n",
    "\n",
    "# add contracted edges to graph\n",
    "for ce in contract_edges(g_t, 'distance'):\n",
    "    start_node, end_node, distance, path = ce\n",
    "    \n",
    "    contracted_edge = {\n",
    "                'start_node': start_node,\n",
    "                'end_node': end_node,\n",
    "                'distance': distance,\n",
    "                'name': g[path[0]][path[1]].get('name'),\n",
    "                'required': 1,\n",
    "                'path': path\n",
    "            }\n",
    "    \n",
    "    g_tc.add_edge(start_node, end_node, **contracted_edge)\n",
    "    g_tc.node[start_node]['lat'] = g.node[start_node]['lat']\n",
    "    g_tc.node[start_node]['lon'] = g.node[start_node]['lon']\n",
    "    g_tc.node[end_node]['lat'] = g.node[end_node]['lat']\n",
    "    g_tc.node[end_node]['lon'] = g.node[end_node]['lon']"
   ]
  },
  {
   "cell_type": "markdown",
   "metadata": {},
   "source": [
    "Edge contraction reduces the number of edges fed to the RPP algorithm by a factor of ~40."
   ]
  },
  {
   "cell_type": "code",
   "execution_count": 130,
   "metadata": {},
   "outputs": [
    {
     "name": "stdout",
     "output_type": "stream",
     "text": [
      "Number of edges in contracted trail graoh: 124\n"
     ]
    }
   ],
   "source": [
    "print('Number of edges in contracted trail graoh: {}'.format(len(g_tc.edges())))"
   ]
  },
  {
   "cell_type": "markdown",
   "metadata": {
    "nbpresent": {
     "id": "eebf952d-6545-4412-bb27-0590f7aaa0a7"
    }
   },
   "source": [
    "## Solve CPP\n",
    "\n",
    "First, let's see how well the Chinese Postman solution works."
   ]
  },
  {
   "cell_type": "markdown",
   "metadata": {
    "nbpresent": {
     "id": "a0282f9a-2889-44a4-b254-12ab26e05660"
    }
   },
   "source": [
    "#### Create CPP edgelist"
   ]
  },
  {
   "cell_type": "code",
   "execution_count": 142,
   "metadata": {
    "nbpresent": {
     "id": "4e577d97-5f4c-4f92-bad3-3321db17c9e5"
    }
   },
   "outputs": [],
   "source": [
    "# create list with edge attributes and \"from\" & \"to\" nodes\n",
    "tmp = []\n",
    "for e in g_tc.edges(data=True):\n",
    "    tmpi = e[2].copy()  # so we don't mess w original graph\n",
    "    tmpi['start_node'] = e[0]\n",
    "    tmpi['end_node'] = e[1]\n",
    "    tmp.append(tmpi)\n",
    "    \n",
    "# create dataframe w node1 and node2 in order\n",
    "eldf = pd.DataFrame(tmp)   \n",
    "eldf = eldf[['start_node', 'end_node'] + list(set(eldf.columns)-{'start_node', 'end_node'})]\n",
    "\n",
    "# create edgelist mock CSV\n",
    "elfn = create_mock_csv_from_dataframe(eldf)"
   ]
  },
  {
   "cell_type": "markdown",
   "metadata": {
    "nbpresent": {
     "id": "244d53ec-c880-4ad3-9683-b2e62ef306f1"
    }
   },
   "source": [
    "#### Start node\n",
    "\n",
    "The route is designed to start at the far east end of the park on the Blue trail (node '735393342').  While the CPP and RPP solutions will return a Eulerian circuit (loop back to the starting node), we could truncate this last long doublebacking segment when actually running the route"
   ]
  },
  {
   "cell_type": "markdown",
   "metadata": {},
   "source": [
    "<img src=\"https://github.com/brooksandrew/postman_problems_examples/raw/master/sleepinggiant/fig/sleepinggiant_starting_node.png\" width=\"600\">"
   ]
  },
  {
   "cell_type": "markdown",
   "metadata": {},
   "source": [
    "#### Solve"
   ]
  },
  {
   "cell_type": "code",
   "execution_count": 143,
   "metadata": {
    "nbpresent": {
     "id": "6d5994cf-9344-40bb-8ca1-5b9d9d8f3246"
    }
   },
   "outputs": [],
   "source": [
    "circuit_cpp, gcpp = cpp(elfn, start_node='735393342')"
   ]
  },
  {
   "cell_type": "markdown",
   "metadata": {},
   "source": [
    "#### CPP Stats\n",
    "\n",
    "_(distances in meters)_"
   ]
  },
  {
   "cell_type": "code",
   "execution_count": 176,
   "metadata": {
    "nbpresent": {
     "id": "38ea0544-216e-4614-bca5-497663f1710a"
    }
   },
   "outputs": [
    {
     "data": {
      "text/plain": [
       "OrderedDict([('distance_walked', 54522.949121342645),\n",
       "             ('distance_doublebacked', 13383.36715945256),\n",
       "             ('distance_walked_once', 41139.581961890086),\n",
       "             ('distance_walked_optional', 0),\n",
       "             ('distance_walked_required', 54522.949121342645),\n",
       "             ('edges_walked', 170),\n",
       "             ('edges_doublebacked', 46),\n",
       "             ('edges_walked_once', 124),\n",
       "             ('edges_walked_optional', 0),\n",
       "             ('edges_walked_required', 170)])"
      ]
     },
     "execution_count": 176,
     "metadata": {},
     "output_type": "execute_result"
    }
   ],
   "source": [
    "cpp_stats = calculate_postman_solution_stats(circuit_cpp)\n",
    "cpp_stats"
   ]
  },
  {
   "cell_type": "code",
   "execution_count": 163,
   "metadata": {},
   "outputs": [
    {
     "name": "stdout",
     "output_type": "stream",
     "text": [
      "Miles in CPP solution: 33.88\n"
     ]
    }
   ],
   "source": [
    "print('Miles in CPP solution: {:0.2f}'.format(cpp_stats['distance_walked']/1609.34))"
   ]
  },
  {
   "cell_type": "markdown",
   "metadata": {
    "nbpresent": {
     "id": "df4e2a1c-bee5-4551-a12e-8c75e093cc43"
    }
   },
   "source": [
    "## Solve RPP\n",
    "\n",
    "With the CPP as benchmark, let's see how well we do when we allow for optional edges in the route."
   ]
  },
  {
   "cell_type": "code",
   "execution_count": 152,
   "metadata": {
    "nbpresent": {
     "id": "78ce04f7-aad6-4ac3-a775-9eb99c637e67"
    }
   },
   "outputs": [
    {
     "name": "stdout",
     "output_type": "stream",
     "text": [
      "CPU times: user 1min 39s, sys: 1.08 s, total: 1min 40s\n",
      "Wall time: 1min 42s\n"
     ]
    }
   ],
   "source": [
    "%%time\n",
    "dfrpp = create_rpp_edgelist(g_tc, \n",
    "                            graph_full=g, \n",
    "                            edge_weight='distance', \n",
    "                            max_distance=2500)"
   ]
  },
  {
   "cell_type": "markdown",
   "metadata": {},
   "source": [
    "#### Required vs optional edge counts\n",
    "\n",
    "(_1=required and 0=optional_)"
   ]
  },
  {
   "cell_type": "code",
   "execution_count": 154,
   "metadata": {
    "nbpresent": {
     "id": "a0a6d978-ffae-47cf-af07-4b32278395f6"
    },
    "scrolled": true
   },
   "outputs": [
    {
     "data": {
      "text/plain": [
       "Counter({0: 3034, 1: 124})"
      ]
     },
     "execution_count": 154,
     "metadata": {},
     "output_type": "execute_result"
    }
   ],
   "source": [
    "Counter( dfrpp['required'])"
   ]
  },
  {
   "cell_type": "markdown",
   "metadata": {
    "nbpresent": {
     "id": "60dc5251-9781-4d02-b7c0-47c2eb4eb98d"
    }
   },
   "source": [
    "#### Solve RPP"
   ]
  },
  {
   "cell_type": "code",
   "execution_count": 153,
   "metadata": {
    "nbpresent": {
     "id": "0bc98b4a-9efc-4251-b870-7c0025d7a360"
    }
   },
   "outputs": [],
   "source": [
    "# create mockfilename\n",
    "elfn = create_mock_csv_from_dataframe(dfrpp)"
   ]
  },
  {
   "cell_type": "code",
   "execution_count": 155,
   "metadata": {
    "nbpresent": {
     "id": "5b5d089a-c5f9-4cb9-8c9e-a4eee7ef06b3"
    }
   },
   "outputs": [
    {
     "name": "stdout",
     "output_type": "stream",
     "text": [
      "CPU times: user 5.81 s, sys: 59.6 ms, total: 5.87 s\n",
      "Wall time: 5.99 s\n"
     ]
    }
   ],
   "source": [
    "%%time\n",
    "# solve\n",
    "circuit_rpp, grpp = rpp(elfn, start_node='735393342')"
   ]
  },
  {
   "cell_type": "markdown",
   "metadata": {},
   "source": [
    "#### RPP Stats\n",
    "\n",
    "_(distances in meters)_"
   ]
  },
  {
   "cell_type": "code",
   "execution_count": 160,
   "metadata": {
    "nbpresent": {
     "id": "44935f8b-e791-4826-b6ef-ef61412b953f"
    }
   },
   "outputs": [
    {
     "data": {
      "text/plain": [
       "OrderedDict([('distance_walked', 49427.7740637624),\n",
       "             ('distance_doublebacked', 8288.19210187231),\n",
       "             ('distance_walked_once', 41139.58196189009),\n",
       "             ('distance_walked_optional', 5238.9032692701385),\n",
       "             ('distance_walked_required', 44188.870794492264),\n",
       "             ('edges_walked', 152),\n",
       "             ('edges_doublebacked', 28),\n",
       "             ('edges_walked_once', 124),\n",
       "             ('edges_walked_optional', 12),\n",
       "             ('edges_walked_required', 140)])"
      ]
     },
     "execution_count": 160,
     "metadata": {},
     "output_type": "execute_result"
    }
   ],
   "source": [
    "rpp_stats = calculate_postman_solution_stats(circuit_rpp)\n",
    "rpp_stats"
   ]
  },
  {
   "cell_type": "markdown",
   "metadata": {},
   "source": [
    "\n",
    "Leveraging the optional roads and trails, we're able to shave a about 3 miles off the CPP route.  Total mileage checks in at 30.71, just under a 50K (30.1 miles)."
   ]
  },
  {
   "cell_type": "code",
   "execution_count": 179,
   "metadata": {},
   "outputs": [
    {
     "name": "stdout",
     "output_type": "stream",
     "text": [
      "Miles in RPP solution: 30.71\n"
     ]
    }
   ],
   "source": [
    "print('Miles in RPP solution: {:0.2f}'.format(rpp_stats['distance_walked']/1609.34))"
   ]
  },
  {
   "cell_type": "markdown",
   "metadata": {
    "nbpresent": {
     "id": "721b1e35-6738-4222-b487-2743d6a1f0e5"
    }
   },
   "source": [
    "## Viz RPP Solution"
   ]
  },
  {
   "cell_type": "code",
   "execution_count": 164,
   "metadata": {
    "nbpresent": {
     "id": "a38341cc-7300-4e11-9e81-cc1e42e2a95a"
    }
   },
   "outputs": [],
   "source": [
    "# hack to convert 'path' from str back to list.  Caused by `create_mock_csv_from_dataframe`\n",
    "for e in circuit_rpp:\n",
    "    if type(e[3]['path']) == str:\n",
    "        exec('e[3][\"path\"]=' + e[3][\"path\"])"
   ]
  },
  {
   "cell_type": "markdown",
   "metadata": {},
   "source": [
    "#### Create graph from RPP solution"
   ]
  },
  {
   "cell_type": "code",
   "execution_count": 165,
   "metadata": {
    "nbpresent": {
     "id": "3034410a-7240-4fda-b17a-42f088b3f7c9"
    }
   },
   "outputs": [],
   "source": [
    "g_tcg = g_tc.copy()\n",
    "\n",
    "# calc shortest path between optional nodes and add to graph\n",
    "for e in circuit_rpp:\n",
    "    granular_type = 'trail' if e[3]['required'] else 'optional'\n",
    "    \n",
    "    # add granular optional edges to g_tcg\n",
    "    path = e[3]['path']\n",
    "    for pair in list(zip(path[:-1], path[1:])):\n",
    "        if (g_tcg.has_edge(pair[0], pair[1])) and (g_tcg[pair[0]][pair[1]][0].get('granular_type') == 'optional'):\n",
    "                g_tcg[pair[0]][pair[1]][0]['granular_type'] = 'trail'\n",
    "        else:\n",
    "            g_tcg.add_edge(pair[0], pair[1], granular='True', granular_type=granular_type)\n",
    "    \n",
    "    # add granular nodes from optional edge paths to g_tcg\n",
    "    for n in path:\n",
    "        g_tcg.add_node(n, lat=g.node[n]['lat'], lon=g.node[n]['lon'])"
   ]
  },
  {
   "cell_type": "markdown",
   "metadata": {
    "nbpresent": {
     "id": "623022a4-58a3-4452-aaab-db1a708edbcb"
    }
   },
   "source": [
    "### Viz: RPP optional edges\n",
    "\n",
    "The RPP algorithm picks up some logical shortcuts using the optional trails and a couple short stretches of road."
   ]
  },
  {
   "cell_type": "markdown",
   "metadata": {},
   "source": [
    "* **<font color='black'>black</font>**: required trails\n",
    "* **<font color='blue'>blue</font>**: optional trails and roads"
   ]
  },
  {
   "cell_type": "code",
   "execution_count": 169,
   "metadata": {
    "nbpresent": {
     "id": "e3072365-b801-4c71-9ea7-fddb62674a84"
    },
    "scrolled": true
   },
   "outputs": [],
   "source": [
    "fig, ax = plt.subplots(figsize=(1,8))\n",
    "\n",
    "pos = {k: (g_tcg.node[k].get('lon'), g_tcg.node[k].get('lat')) for k in g_tcg.nodes()}    \n",
    "\n",
    "el_opt = [e for e in g_tcg.edges(data=True) if e[2].get('granular_type') == 'optional'] \n",
    "nx.draw_networkx_edges(g_tcg, pos, edgelist=el_opt, width=6.0, edge_color='blue', alpha=1.0)\n",
    "\n",
    "el_tr = [e for e in g_tcg.edges(data=True) if e[2].get('granular_type') == 'trail']\n",
    "nx.draw_networkx_edges(g_tcg, pos, edgelist=el_tr, width=3.0, edge_color='black', alpha=0.8)\n",
    "\n",
    "mplleaflet.save_html(fig, 'maps/rpp_solution_opt_edges.html', tiles='cartodb_positron')"
   ]
  },
  {
   "cell_type": "markdown",
   "metadata": {},
   "source": [
    "<iframe src=\"https://cdn.rawgit.com/brooksandrew/postman_problems_examples/master/sleepinggiant/maps/rpp_solution_opt_edges.html\" height=\"400\" width=\"750\"></iframe>\n"
   ]
  },
  {
   "cell_type": "markdown",
   "metadata": {
    "nbpresent": {
     "id": "f3dc986f-3a29-429d-abbd-445b97262ab6"
    }
   },
   "source": [
    "### Viz: RPP edges counts"
   ]
  },
  {
   "cell_type": "code",
   "execution_count": 171,
   "metadata": {
    "nbpresent": {
     "id": "28e7f881-8ee9-416e-8805-a8a0d05eb18a"
    }
   },
   "outputs": [],
   "source": [
    "## Create graph directly from rpp_circuit and original graph w lat/lon (g)\n",
    "color_seq = [None, 'black', 'magenta', 'orange', 'yellow']\n",
    "grppviz = nx.MultiGraph()\n",
    "\n",
    "for e in circuit_rpp:\n",
    "    for n1, n2 in zip(e[3]['path'][:-1], e[3]['path'][1:]):\n",
    "        if grppviz.has_edge(n1, n2):\n",
    "            grppviz[n1][n2][0]['linewidth'] += 2\n",
    "            grppviz[n1][n2][0]['cnt'] += 1\n",
    "        else:                \n",
    "            grppviz.add_edge(n1, n2, linewidth=2.5)\n",
    "            grppviz[n1][n2][0]['color_st'] = 'black' if g_t.has_edge(n1, n2) else 'red'\n",
    "            grppviz[n1][n2][0]['cnt'] = 1\n",
    "            grppviz.add_node(n1, lat=g.node[n1]['lat'], lon=g.node[n1]['lon'])\n",
    "            grppviz.add_node(n2, lat=g.node[n2]['lat'], lon=g.node[n2]['lon']) \n",
    "\n",
    "for e in grppviz.edges(data=True):\n",
    "    e[2]['color_cnt'] = color_seq[1] if 'cnt' not in e[2] else color_seq[e[2]['cnt'] ]\n",
    "    "
   ]
  },
  {
   "cell_type": "markdown",
   "metadata": {},
   "source": [
    "Edge walks per color:  \n",
    "\n",
    "**<font color='black'>black</font>**: 1  <br>\n",
    "**<font color='magenta'>magenta</font>**: 2  <br>"
   ]
  },
  {
   "cell_type": "code",
   "execution_count": 172,
   "metadata": {
    "nbpresent": {
     "id": "309b00e4-fd2e-49d5-8db3-8df849ebd5e3"
    },
    "scrolled": true
   },
   "outputs": [],
   "source": [
    "fig, ax = plt.subplots(figsize=(1,10))\n",
    "\n",
    "pos = {k: (grppviz.node[k]['lon'], grppviz.node[k]['lat']) for k in grppviz.nodes()}    \n",
    "e_width = [e[2]['linewidth'] for e in grppviz.edges(data=True)]\n",
    "e_color = [e[2]['color_cnt'] for e in grppviz.edges(data=True)]\n",
    "nx.draw_networkx_edges(grppviz, pos, width=e_width, edge_color=e_color, alpha=0.7)\n",
    "\n",
    "mplleaflet.save_html(fig, 'maps/rpp_solution_edge_cnts.html', tiles='cartodb_positron')"
   ]
  },
  {
   "cell_type": "markdown",
   "metadata": {},
   "source": [
    "<iframe src=\"https://cdn.rawgit.com/brooksandrew/postman_problems_examples/master/sleepinggiant/maps/rpp_solution_edge_cnts.html\" height=\"400\" width=\"750\"></iframe>\n"
   ]
  },
  {
   "cell_type": "markdown",
   "metadata": {},
   "source": [
    "## Create geojson solution\n",
    "\n",
    "Used for the forthcoming D3 route animation."
   ]
  },
  {
   "cell_type": "code",
   "execution_count": 314,
   "metadata": {},
   "outputs": [],
   "source": [
    "geojson = {'features':[], 'type': 'FeatureCollection'}\n",
    "time = 0\n",
    "path = list(reversed(circuit_rpp[0][3]['path']))\n",
    "\n",
    "for e in circuit_rpp:\n",
    "    if e[3]['path'][0] != path[-1]: \n",
    "        path = list(reversed(e[3]['path']))\n",
    "    else:\n",
    "        path = e[3]['path']\n",
    "    \n",
    "    for n in path:\n",
    "        time += 1\n",
    "        doc = {'type': 'Feature',\n",
    "              'properties': {\n",
    "                  'latitude': g.node[n]['lat'],\n",
    "                  'longitude': g.node[n]['lon'],\n",
    "                  'time': time,\n",
    "                  'id': e[3].get('id')\n",
    "              },\n",
    "              'geometry':{\n",
    "                  'type': 'Point',\n",
    "                  'coordinates': [g.node[n]['lon'], g.node[n]['lat']]\n",
    "              }\n",
    "          }\n",
    "        geojson['features'].append(doc)\n",
    "        "
   ]
  },
  {
   "cell_type": "code",
   "execution_count": 289,
   "metadata": {},
   "outputs": [],
   "source": [
    "with open('circuit_rpp.geojson','w') as f:\n",
    "    json.dump(geojson, f)"
   ]
  }
 ],
 "metadata": {
  "anaconda-cloud": {},
  "kernelspec": {
   "display_name": "Python [conda root]",
   "language": "python",
   "name": "conda-root-py"
  },
  "language_info": {
   "codemirror_mode": {
    "name": "ipython",
    "version": 3
   },
   "file_extension": ".py",
   "mimetype": "text/x-python",
   "name": "python",
   "nbconvert_exporter": "python",
   "pygments_lexer": "ipython3",
   "version": "3.5.2"
  },
  "toc": {
   "nav_menu": {},
   "number_sections": true,
   "sideBar": true,
   "skip_h1_title": false,
   "toc_cell": false,
   "toc_position": {
    "height": "598px",
    "left": "0px",
    "right": "1101px",
    "top": "134px",
    "width": "212px"
   },
   "toc_section_display": "block",
   "toc_window_display": true
  }
 },
 "nbformat": 4,
 "nbformat_minor": 2
}
